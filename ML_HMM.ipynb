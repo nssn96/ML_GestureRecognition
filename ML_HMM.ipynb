{
  "nbformat": 4,
  "nbformat_minor": 0,
  "metadata": {
    "colab": {
      "name": "ML_HMM.ipynb",
      "provenance": [],
      "authorship_tag": "ABX9TyNbmED8tS11X89zLpN9TZE2",
      "include_colab_link": true
    },
    "kernelspec": {
      "name": "python3",
      "display_name": "Python 3"
    },
    "language_info": {
      "name": "python"
    }
  },
  "cells": [
    {
      "cell_type": "markdown",
      "metadata": {
        "id": "view-in-github",
        "colab_type": "text"
      },
      "source": [
        "<a href=\"https://colab.research.google.com/github/nssn96/ML_GestureRecognition/blob/main/ML_HMM.ipynb\" target=\"_parent\"><img src=\"https://colab.research.google.com/assets/colab-badge.svg\" alt=\"Open In Colab\"/></a>"
      ]
    },
    {
      "cell_type": "markdown",
      "source": [
        "# ML Assignment 4 - Gesture Recognition using HMM(Hidden Markov models)\n",
        "\n",
        "\n",
        "1.   Author : Surya Narayanan Nadhamuni Suresh\n",
        "2.   UTA ID : 1001877873\n"
      ],
      "metadata": {
        "id": "4GddCOSl2K9T"
      }
    },
    {
      "cell_type": "code",
      "source": [
        "# #install hmmlearn using pip3\n",
        "# !pip install hmmlearn"
      ],
      "metadata": {
        "id": "-Odz6jveHQ7U"
      },
      "execution_count": 103,
      "outputs": []
    },
    {
      "cell_type": "code",
      "execution_count": 104,
      "metadata": {
        "id": "hhHFXwDL2DR7"
      },
      "outputs": [],
      "source": [
        "#import lines\n",
        "import numpy as np\n",
        "import pandas as pd\n",
        "import matplotlib.pyplot as plt\n",
        "from sklearn.model_selection import train_test_split\n",
        "import random\n",
        "import pickle\n",
        "from hmmlearn import hmm"
      ]
    },
    {
      "cell_type": "code",
      "source": [
        "#References Used\n"
      ],
      "metadata": {
        "id": "BAX5FCs52VxW"
      },
      "execution_count": 105,
      "outputs": []
    },
    {
      "cell_type": "code",
      "source": [
        "#Importing the dataset\n",
        "dataset = pd.read_csv('Original_Dataset.csv')\n",
        "print(dataset)"
      ],
      "metadata": {
        "id": "_j_hFknf22O4",
        "colab": {
          "base_uri": "https://localhost:8080/"
        },
        "outputId": "aface152-06ce-47c8-a716-74b29b9ec53d"
      },
      "execution_count": 106,
      "outputs": [
        {
          "output_type": "stream",
          "name": "stdout",
          "text": [
            "     LC_X_1  LC_X_2  LC_X_3  LC_X_4  LC_X_5  LC_X_6  LC_X_7  LC_X_8  LC_X_9  \\\n",
            "0       307     389     259     259     259     259     259     258     258   \n",
            "1       340     340     340     340     339     339     340     339     338   \n",
            "2       260     263     266     266     270     271     271     271     271   \n",
            "3       338     339     338     337     337     337     337     337     336   \n",
            "4       319     240     240     318     241     318     318     318     318   \n",
            "..      ...     ...     ...     ...     ...     ...     ...     ...     ...   \n",
            "345       0     309     309     309     309     309     309     309     309   \n",
            "346     301     300     302     302     302     301     299     300     301   \n",
            "347     298     295     294     292     292     290     290     288     287   \n",
            "348     278     278     278     277     278     277     276     276     276   \n",
            "349     279     281     281     280     280     280     280     280     281   \n",
            "\n",
            "     LC_X_10  ...  RD_22  RD_23  RD_24  RD_25  RD_26  RD_27  RD_28  RD_29  \\\n",
            "0        259  ...   1001   1001   1004   1007   1013   1013   1016   1016   \n",
            "1        338  ...   1007   1007   1007   1010   1010   1010   1010   1013   \n",
            "2        271  ...    962    959      0    957    957    959    959    962   \n",
            "3        335  ...   1013   1010   1010   1010   1013   1010   1010   1013   \n",
            "4        318  ...   1016   1016   1022   1022   1013   1016   1016   1019   \n",
            "..       ...  ...    ...    ...    ...    ...    ...    ...    ...    ...   \n",
            "345      310  ...      0      0      0      0      0      0      0      0   \n",
            "346      302  ...      0      0      0      0      0      0      0      0   \n",
            "347      287  ...      0      0      0      0      0      0      0      0   \n",
            "348      276  ...      0      0      0      0      0      0      0      0   \n",
            "349      281  ...      0      0      0      0      0      0      0      0   \n",
            "\n",
            "     RD_30  Gesture  \n",
            "0     1019   ZoomIn  \n",
            "1     1010   ZoomIn  \n",
            "2      962   ZoomIn  \n",
            "3     1010   ZoomIn  \n",
            "4     1019   ZoomIn  \n",
            "..     ...      ...  \n",
            "345      0    Press  \n",
            "346      0    Press  \n",
            "347      0    Press  \n",
            "348      0    Press  \n",
            "349      0    Press  \n",
            "\n",
            "[350 rows x 781 columns]\n"
          ]
        }
      ]
    },
    {
      "cell_type": "code",
      "source": [
        "dataset.columns"
      ],
      "metadata": {
        "colab": {
          "base_uri": "https://localhost:8080/"
        },
        "id": "HzKWXAK5UD0p",
        "outputId": "3e5b58a9-67cc-4a64-fa3a-241286d7130f"
      },
      "execution_count": 107,
      "outputs": [
        {
          "output_type": "execute_result",
          "data": {
            "text/plain": [
              "Index(['LC_X_1', 'LC_X_2', 'LC_X_3', 'LC_X_4', 'LC_X_5', 'LC_X_6', 'LC_X_7',\n",
              "       'LC_X_8', 'LC_X_9', 'LC_X_10',\n",
              "       ...\n",
              "       'RD_22', 'RD_23', 'RD_24', 'RD_25', 'RD_26', 'RD_27', 'RD_28', 'RD_29',\n",
              "       'RD_30', 'Gesture'],\n",
              "      dtype='object', length=781)"
            ]
          },
          "metadata": {},
          "execution_count": 107
        }
      ]
    },
    {
      "cell_type": "code",
      "source": [
        "''' Since we may not need all of that information and will probably perform well\n",
        "using only the hand centroids, we will be dropping some of the columns from the dataset. We will take only take the x and y values\n",
        "of the hands. '''\n",
        "#Normalize each sequence and dropping some column data\n",
        "def normalize(x):\n",
        "    return (x - np.min(x)) / (np.max(x) - np.min(x))\n",
        "\n",
        "dropped_columns = []\n",
        "for column in dataset.columns:\n",
        "    if str(column).find('LF') != -1 or  str(column).find('RF') != -1 or\\\n",
        "            str(column).find('LD') != -1 or str(column).find('RD') != -1:\n",
        "        dropped_columns.append(column)\n",
        "    elif column != 'Gesture':\n",
        "        dataset[column] = normalize(dataset[column])\n",
        "dataset = dataset.drop(dropped_columns,axis=1)\n",
        "gestures = set(dataset.Gesture)\n",
        "#print(dataset)\n",
        "print(gestures)"
      ],
      "metadata": {
        "colab": {
          "base_uri": "https://localhost:8080/"
        },
        "id": "NJlOq3hoRoxB",
        "outputId": "bde4647a-d61c-47af-9aee-6c7e58882b00"
      },
      "execution_count": 108,
      "outputs": [
        {
          "output_type": "stream",
          "name": "stdout",
          "text": [
            "{'Press', 'MoveUp', 'ZoomOut', 'MoveLeft', 'MoveRight', 'ZoomIn', 'MoveDown'}\n"
          ]
        }
      ]
    },
    {
      "cell_type": "code",
      "source": [
        "# splitting the datset into train and test set--> I am splitting 90% train and 10% test set\n",
        "basic_template = [0,0,0,0,0,0,0]  # here the size is 7 because, we have seven different classes\n",
        "x_train = basic_template.copy()\n",
        "x_test = basic_template.copy()\n",
        "y_train = basic_template.copy()\n",
        "y_test = basic_template.copy()\n",
        "groupby_gesture = dataset.groupby(dataset.Gesture)\n",
        "print(type(groupby_gesture))\n",
        "for i, gesture in enumerate(gestures):\n",
        "  gesture_data = groupby_gesture.get_group(gesture)\n",
        "  x_train[i],x_test[i],y_train[i],y_test[i] = train_test_split(gesture_data.iloc[: , :120],gesture_data['Gesture'],test_size=0.2, random_state=1,stratify = gesture_data['Gesture'])\n",
        "print('shape of train data:', np.array(x_train).shape)\n",
        "print('shape of test data:',np.array(x_test).shape )"
      ],
      "metadata": {
        "colab": {
          "base_uri": "https://localhost:8080/"
        },
        "id": "O2SFYomYZHEr",
        "outputId": "5424c731-6edc-4a2f-bd3e-d0d2b4e40891"
      },
      "execution_count": 109,
      "outputs": [
        {
          "output_type": "stream",
          "name": "stdout",
          "text": [
            "<class 'pandas.core.groupby.generic.DataFrameGroupBy'>\n",
            "shape of train data: (7, 40, 120)\n",
            "shape of test data: (7, 10, 120)\n"
          ]
        }
      ]
    },
    {
      "cell_type": "code",
      "source": [
        "print(dataset)"
      ],
      "metadata": {
        "colab": {
          "base_uri": "https://localhost:8080/"
        },
        "id": "4qEyxn0wc7hc",
        "outputId": "ca895556-e3df-49f1-84da-e6976ae3b9a5"
      },
      "execution_count": 110,
      "outputs": [
        {
          "output_type": "stream",
          "name": "stdout",
          "text": [
            "       LC_X_1    LC_X_2    LC_X_3    LC_X_4    LC_X_5    LC_X_6    LC_X_7  \\\n",
            "0    0.647679  0.818947  0.546414  0.545263  0.546414  0.545263  0.545263   \n",
            "1    0.717300  0.715789  0.717300  0.715789  0.715190  0.713684  0.715789   \n",
            "2    0.548523  0.553684  0.561181  0.560000  0.569620  0.570526  0.570526   \n",
            "3    0.713080  0.713684  0.713080  0.709474  0.710970  0.709474  0.709474   \n",
            "4    0.672996  0.505263  0.506329  0.669474  0.508439  0.669474  0.669474   \n",
            "..        ...       ...       ...       ...       ...       ...       ...   \n",
            "345  0.000000  0.650526  0.651899  0.650526  0.651899  0.650526  0.650526   \n",
            "346  0.635021  0.631579  0.637131  0.635789  0.637131  0.633684  0.629474   \n",
            "347  0.628692  0.621053  0.620253  0.614737  0.616034  0.610526  0.610526   \n",
            "348  0.586498  0.585263  0.586498  0.583158  0.586498  0.583158  0.581053   \n",
            "349  0.588608  0.591579  0.592827  0.589474  0.590717  0.589474  0.589474   \n",
            "\n",
            "       LC_X_8    LC_X_9   LC_X_10  ...   RC_Y_22   RC_Y_23   RC_Y_24  \\\n",
            "0    0.544304  0.544304  0.546414  ...  0.821429  0.825112  0.821429   \n",
            "1    0.715190  0.713080  0.713080  ...  0.816964  0.816143  0.808036   \n",
            "2    0.571730  0.571730  0.571730  ...  0.830357  0.834081  0.000000   \n",
            "3    0.710970  0.708861  0.706751  ...  0.830357  0.825112  0.821429   \n",
            "4    0.670886  0.670886  0.670886  ...  0.861607  0.869955  0.861607   \n",
            "..        ...       ...       ...  ...       ...       ...       ...   \n",
            "345  0.651899  0.651899  0.654008  ...  0.000000  0.000000  0.000000   \n",
            "346  0.632911  0.635021  0.637131  ...  0.000000  0.000000  0.000000   \n",
            "347  0.607595  0.605485  0.605485  ...  0.000000  0.000000  0.000000   \n",
            "348  0.582278  0.582278  0.582278  ...  0.000000  0.000000  0.000000   \n",
            "349  0.590717  0.592827  0.592827  ...  0.000000  0.000000  0.000000   \n",
            "\n",
            "      RC_Y_25   RC_Y_26   RC_Y_27   RC_Y_28   RC_Y_29   RC_Y_30  Gesture  \n",
            "0    0.787234  0.811159  0.815451  0.857143  0.825532  0.861607   ZoomIn  \n",
            "1    0.761702  0.768240  0.772532  0.799107  0.761702  0.794643   ZoomIn  \n",
            "2    0.778723  0.781116  0.789700  0.830357  0.791489  0.830357   ZoomIn  \n",
            "3    0.778723  0.785408  0.785408  0.816964  0.778723  0.821429   ZoomIn  \n",
            "4    0.829787  0.802575  0.802575  0.834821  0.795745  0.834821   ZoomIn  \n",
            "..        ...       ...       ...       ...       ...       ...      ...  \n",
            "345  0.000000  0.000000  0.000000  0.000000  0.000000  0.000000    Press  \n",
            "346  0.000000  0.000000  0.000000  0.000000  0.000000  0.000000    Press  \n",
            "347  0.000000  0.000000  0.000000  0.000000  0.000000  0.000000    Press  \n",
            "348  0.000000  0.000000  0.000000  0.000000  0.000000  0.000000    Press  \n",
            "349  0.000000  0.000000  0.000000  0.000000  0.000000  0.000000    Press  \n",
            "\n",
            "[350 rows x 121 columns]\n"
          ]
        }
      ]
    }
  ]
}